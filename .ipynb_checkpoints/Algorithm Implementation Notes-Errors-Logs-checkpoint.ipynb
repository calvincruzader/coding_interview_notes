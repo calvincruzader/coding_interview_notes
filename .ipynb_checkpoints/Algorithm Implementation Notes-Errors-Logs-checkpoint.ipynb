{
 "cells": [
  {
   "cell_type": "markdown",
   "metadata": {},
   "source": [
    "# List-Based Collections "
   ]
  },
  {
   "cell_type": "markdown",
   "metadata": {},
   "source": [
    "## Linked Lists\n",
    "\n",
    "### Errors during implementation:\n",
    "* Missed a counter += 1 while doing a while loop \n",
    "* ‘Null’ object in python is “None”\n",
    "* Mixed up variables when implementing LL \n",
    "* Incorrect implementation of LL delete(): head is not \n",
    "* Proper way to implement LL delete() without having to do current_node.next.next! "
   ]
  },
  {
   "cell_type": "code",
   "execution_count": null,
   "metadata": {},
   "outputs": [],
   "source": [
    "def delete(self, value):\n",
    "    current = self.head\n",
    "    previous = None #\n",
    "    while current.value != value and current.next:\n",
    "        previous = current\n",
    "        current = current.next\n",
    "    if current.value == value:\n",
    "        if previous:\n",
    "            previous.next = current.next\n",
    "        else:\n",
    "            self.head = current.next\n"
   ]
  },
  {
   "cell_type": "markdown",
   "metadata": {},
   "source": [
    "### Linked List Implementation Take 1\n"
   ]
  },
  {
   "cell_type": "code",
   "execution_count": null,
   "metadata": {},
   "outputs": [],
   "source": [
    "class Element(object):\n",
    "    def __init__(self, value):\n",
    "        self.value = value\n",
    "        self.next = None\n",
    "        \n",
    "class LinkedList(object):\n",
    "    def __init__(self, head=None):\n",
    "        self.head = head\n",
    "        \n",
    "    def append(self, new_element):\n",
    "        current = self.head\n",
    "        if self.head:\n",
    "            while current.next:\n",
    "                current = current.next\n",
    "            current.next = new_element\n",
    "        else:\n",
    "            self.head = new_element\n",
    "            \n",
    "    def get_position(self, position):\n",
    "        \"\"\"Get an element from a particular position.\n",
    "        Assume the first position is \"1\".\n",
    "        Return \"None\" if position is not in the list.\"\"\"\n",
    "        if position == 1:\n",
    "            return self.head \n",
    "        else:\n",
    "            counter = 1 \n",
    "            current = self.head\n",
    "            while counter < position:\n",
    "                current = current.next\n",
    "                if current == None:\n",
    "                    return \"None\"\n",
    "                counter += 1\n",
    "            \n",
    "            return current\n",
    "    \n",
    "    def insert(self, new_element, position):\n",
    "        \"\"\"Insert a new node at the given position.\n",
    "        Assume the first position is \"1\".\n",
    "        Inserting at position 3 means between\n",
    "        the 2nd and 3rd elements.\"\"\"\n",
    "        if position == 1:\n",
    "            new_element.next = self.head\n",
    "            self.head = new_element\n",
    "        else: \n",
    "            prepending_element = self.get_position(position-1)\n",
    "            appending_element = self.get_position(position)\n",
    "            \n",
    "            if prepending_element == None: \n",
    "                # What do we do if prepending element is null? (prep_el position = 20, position = 100)\n",
    "                return \"Unaccounted for test case.\"\n",
    "            elif appending_element == None:\n",
    "                prepending_element.next = new_element \n",
    "            else: \n",
    "                prepending_element.next = new_element \n",
    "                new_element.next = appending_element\n",
    "    \n",
    "    \n",
    "    def delete(self, value):\n",
    "        \"\"\"Delete the first node with a given value.\"\"\"\n",
    "        if self.head == None:\n",
    "            return \"None\"\n",
    "\n",
    "        current_node = self.head \n",
    "        if current_node.value == value:\n",
    "            # delete head and return \n",
    "            self.head = current_node.next\n",
    "            current_node.next = None\n",
    "            return \"None\"\n",
    "        \n",
    "        if current_node.next != None:\n",
    "            # delete almost head if value exists \n",
    "            if current_node.next.value == value: \n",
    "                current_node.next = current_node.next.next\n",
    "                return \"None\"\n",
    "        \n",
    "        value_found = False  \n",
    "        while current_node.next.next != None:\n",
    "            if current_node.next.value == value: \n",
    "                current_node.next = current_node.next.next \n",
    "                return \n",
    "            current_node = current_node.next \n",
    "            "
   ]
  },
  {
   "cell_type": "markdown",
   "metadata": {},
   "source": [
    "## Stacks \n",
    "\n",
    "Main advantage over linked lists: want to maintain memory of only the most recent elements in a LIFO fashion such that:\n",
    " * Insertion is O(1)\n",
    " * Deletion is O(1)\n"
   ]
  },
  {
   "cell_type": "markdown",
   "metadata": {},
   "source": [
    "### Stack Implementation Take 1"
   ]
  },
  {
   "cell_type": "code",
   "execution_count": null,
   "metadata": {},
   "outputs": [],
   "source": [
    "class Element(object):\n",
    "    def __init__(self, value):\n",
    "        self.value = value\n",
    "        self.next = None\n",
    "        \n",
    "class LinkedList(object):\n",
    "    def __init__(self, head=None):\n",
    "        self.head = head\n",
    "        \n",
    "    def append(self, new_element):\n",
    "        current = self.head\n",
    "        if self.head:\n",
    "            while current.next:\n",
    "                current = current.next\n",
    "            current.next = new_element\n",
    "        else:\n",
    "            self.head = new_element\n",
    "\n",
    "    def insert_first(self, new_element):\n",
    "        \"Insert new element as the head of the LinkedList\"\n",
    "        new_element.next = self.head\n",
    "        self.head = new_element \n",
    "\n",
    "    def delete_first(self):\n",
    "        \"Delete the first (head) element in the LinkedList as return it\"\n",
    "        if self.head:\n",
    "            head_node = self.head\n",
    "            self.head = self.head.next\n",
    "            return head_node\n",
    "        return \"None\"\n",
    "\n",
    "class Stack(object):\n",
    "    def __init__(self,top=None):\n",
    "        self.ll = LinkedList(top)\n",
    "\n",
    "    def push(self, new_element):\n",
    "        \"Push (add) a new element onto the top of the stack\"\n",
    "        self.ll.insert_first(new_element)\n",
    "\n",
    "    def pop(self):\n",
    "        \"Pop (remove) the first element off the top of the stack and return it\"\n",
    "        return self.ll.delete_first()"
   ]
  },
  {
   "cell_type": "markdown",
   "metadata": {},
   "source": [
    "## Queues \n",
    "\n",
    "head - the oldest element in the queue\n",
    "\n",
    "Enqueue - add an element to the tail of a queue\n",
    "\n",
    "Dequeue - remove head element of a queue\n",
    "\n",
    "DEQ - double ended queue, you can enqueue or dequeue both ways \n",
    "* kind of like a generalized version of stacks and queues \n",
    "\n",
    "Priority Queue - a normal queue + a priority value for each element \n",
    "* we remove the element with the highest priority. If multiple elements have the same priority, the oldest element gets dequeued first "
   ]
  },
  {
   "cell_type": "markdown",
   "metadata": {},
   "source": [
    "### Queue Implementation Take 1"
   ]
  },
  {
   "cell_type": "code",
   "execution_count": null,
   "metadata": {},
   "outputs": [],
   "source": [
    "class Queue:\n",
    "    def __init__(self, head=None):\n",
    "        self.storage = [head]\n",
    "\n",
    "    def enqueue(self, new_element):\n",
    "        self.storage.append(new_element)\n",
    "\n",
    "    def peek(self):\n",
    "        return self.storage[0]\n",
    "\n",
    "    def dequeue(self):\n",
    "        return self.storage.pop(0)"
   ]
  },
  {
   "cell_type": "markdown",
   "metadata": {},
   "source": [
    "# Searching and Sorting"
   ]
  },
  {
   "cell_type": "markdown",
   "metadata": {},
   "source": [
    "## Binary Search \n",
    "\n",
    "Made a mistake calculating the mid index :|  . Looked like this:"
   ]
  },
  {
   "cell_type": "code",
   "execution_count": null,
   "metadata": {},
   "outputs": [],
   "source": [
    "def mid_idx_calc(low_idx, high_idx):\n",
    "    stuff = int(math.floor((high_idx - low_idx)/2)) # NOPE should be high + low"
   ]
  },
  {
   "cell_type": "markdown",
   "metadata": {},
   "source": [
    "Also, mid can be dynamically calculated each iteration in the beginning based on the current low/high values, don't need to keep a separate counter for it"
   ]
  },
  {
   "cell_type": "markdown",
   "metadata": {},
   "source": [
    "Also also, the while condition! should be low <= high if you update with low = mid+1 or high = mid-1"
   ]
  },
  {
   "cell_type": "code",
   "execution_count": null,
   "metadata": {},
   "outputs": [],
   "source": [
    "while (low<= high):\n",
    "    # stuff\n",
    "    "
   ]
  },
  {
   "cell_type": "markdown",
   "metadata": {},
   "source": [
    "### Binary Search implementation Take 1 "
   ]
  },
  {
   "cell_type": "code",
   "execution_count": 14,
   "metadata": {},
   "outputs": [
    {
     "name": "stdout",
     "output_type": "stream",
     "text": [
      "-1\n",
      "4\n"
     ]
    }
   ],
   "source": [
    "import math;\n",
    "def binary_search(input_array, value):\n",
    "    \"\"\"Your code goes here.\"\"\"\n",
    "    low_idx = 0\n",
    "    high_idx = len(input_array)-1\n",
    "    \n",
    "    def mid_idx_calc(low_idx, high_idx):\n",
    "        stuff = int(math.floor((high_idx + low_idx)/2))\n",
    "\n",
    "        return stuff\n",
    "    \n",
    "    mid_idx = mid_idx_calc(low_idx, high_idx)\n",
    "    \n",
    "    if input_array[mid_idx] == value:\n",
    "        return mid_idx\n",
    "    \n",
    "    while low_idx != mid_idx and mid_idx != high_idx: \n",
    "        if value < input_array[mid_idx]:\n",
    "            high_idx = mid_idx\n",
    "            mid_idx = mid_idx_calc(low_idx, high_idx)\n",
    "              \n",
    "        elif value > input_array[mid_idx]: \n",
    "\n",
    "\n",
    "            low_idx = mid_idx\n",
    "            mid_idx = mid_idx_calc(low_idx, high_idx) \n",
    "\n",
    "        \n",
    "        if value == input_array[mid_idx]:\n",
    "            return mid_idx \n",
    "        \n",
    "    return -1\n",
    "\n",
    "test_list = [1,3,9,11,15,19,29]\n",
    "test_val1 = 25\n",
    "test_val2 = 15\n",
    "print(binary_search(test_list, test_val1))\n",
    "print(binary_search(test_list, test_val2))"
   ]
  },
  {
   "cell_type": "markdown",
   "metadata": {},
   "source": [
    "## Recursion \n",
    "\n",
    "A function that calls itself\n",
    "\n",
    "Make a note of what's happening in all the code that has recursion!\n",
    "\n",
    "need a base case : exit condition \n",
    "alter the input parameter when calling the recursive function"
   ]
  },
  {
   "cell_type": "markdown",
   "metadata": {},
   "source": [
    "### Recursion Take 1 "
   ]
  },
  {
   "cell_type": "code",
   "execution_count": 17,
   "metadata": {},
   "outputs": [
    {
     "name": "stdout",
     "output_type": "stream",
     "text": [
      "1\n",
      "1\n",
      "2\n",
      "3\n",
      "6765\n"
     ]
    }
   ],
   "source": [
    "def get_fib(position):\n",
    "    if position == 0: \n",
    "        return 0\n",
    "    elif position == 1:\n",
    "        return 1\n",
    "    if position < 0:\n",
    "        return -1\n",
    "    return get_fib(position-1) + get_fib(position-2)\n",
    "\n",
    "print(get_fib(1))\n",
    "print(get_fib(2))\n",
    "print(get_fib(3))\n",
    "print(get_fib(4))\n",
    "print(get_fib(20))"
   ]
  },
  {
   "cell_type": "markdown",
   "metadata": {},
   "source": [
    "## Sorting! \n",
    "\n",
    "Consider in-place sorting methods as well, no memory complexity there at all if you don't have to make a temp table or anything\n",
    "\n",
    "If number of items to sort is small, then you can get away with the naive approach"
   ]
  },
  {
   "cell_type": "markdown",
   "metadata": {},
   "source": [
    "#### Bubble Sort \n",
    "\n",
    "Time complexity\n",
    "* Worse case : O(n^2)\n",
    "* Average case : O(n^2)\n",
    "* Best case : O(n) # already sorted\n",
    "\n",
    "Space complexity : O(1)"
   ]
  },
  {
   "cell_type": "markdown",
   "metadata": {},
   "source": [
    "#### Merge Sort\n",
    "\n",
    "Divide and Conquer sorting approach \n",
    "\n",
    "Worse case : O(n logn) \n",
    "\n",
    "average case : O(n logn)\n",
    "\n",
    "Space complexity : O(n) \n",
    "* assumes we got rid of old arrays as we got done using them for each iteration"
   ]
  },
  {
   "cell_type": "markdown",
   "metadata": {},
   "source": [
    "#### Quick Sort! \n",
    "\n",
    "Randomly select a pivot and move each element in the list after the pivot if the element > pivot or before the pivot if the element < pivot "
   ]
  },
  {
   "cell_type": "code",
   "execution_count": 24,
   "metadata": {},
   "outputs": [],
   "source": [
    "def sort(array=[12,4,5,6,7,3,1,15]):\n",
    "    less = []\n",
    "    equal = []\n",
    "    greater = []\n",
    "\n",
    "    if len(array) > 1:\n",
    "        pivot = array[0]\n",
    "        for x in array:\n",
    "            if x < pivot:\n",
    "                less.append(x)\n",
    "            if x == pivot:\n",
    "                equal.append(x)\n",
    "            if x > pivot:\n",
    "                greater.append(x)\n",
    "        # Don't forget to return something!\n",
    "        return sort(less)+equal+sort(greater)  # Just use the + operator to join lists\n",
    "    # Note that you want equal ^^^^^ not pivot\n",
    "    else:  # You need to hande the part at the end of the recursion - when you only have one element in your array, just return the array.\n",
    "        return array"
   ]
  },
  {
   "cell_type": "code",
   "execution_count": 25,
   "metadata": {},
   "outputs": [
    {
     "name": "stdout",
     "output_type": "stream",
     "text": [
      "[97, 100, 101, 107, 200, 211]\n"
     ]
    }
   ],
   "source": [
    "array = [97, 200, 100, 101, 211, 107]\n",
    "print(sort(array))\n",
    "# array -> [97, 100, 101, 107, 200, 211]"
   ]
  },
  {
   "cell_type": "markdown",
   "metadata": {},
   "source": [
    "## Maps and Hashing "
   ]
  },
  {
   "cell_type": "markdown",
   "metadata": {},
   "source": [
    "A map is a set-based data structure! wow, never knew that"
   ]
  },
  {
   "cell_type": "markdown",
   "metadata": {},
   "source": [
    "### hash functions\n",
    "\n",
    "How a value will be mapped so that we can generate a (nearly) unique key\n",
    "\n",
    "On the __general__, hash functions are implemented using the __remainder__ of an integer (the more the remainder, the bigger number of buckets) "
   ]
  },
  {
   "cell_type": "markdown",
   "metadata": {},
   "source": [
    "### hash function collisions\n",
    "Two things you can do to address this:\n",
    "* change the hash function \n",
    "* change the structure of the array i.e. implement buckets!\n",
    "\n",
    "Load factor = #entries / #buckets"
   ]
  },
  {
   "cell_type": "markdown",
   "metadata": {},
   "source": [
    "## Trees \n",
    "\n",
    "Breadth first search and depth first search \n",
    "\n"
   ]
  },
  {
   "cell_type": "markdown",
   "metadata": {},
   "source": [
    "Depth First Search\n",
    "* Pre-order traversal\n",
    "    * check off a node as soon as you see it, then traverse left then right \n",
    "* In-order traversal\n",
    "    * check off a node after you've seen it's left child, if it exists\n",
    "* Post-order traversal\n",
    "    * check off a node after you've seen both it's children, if they exist"
   ]
  },
  {
   "cell_type": "markdown",
   "metadata": {},
   "source": [
    "### Binary Tree \n",
    "Searching for a value in a binary tree"
   ]
  },
  {
   "cell_type": "markdown",
   "metadata": {},
   "source": [
    "Printing the value of a binary tree, we can recurse and return the value of the traversal thus far"
   ]
  },
  {
   "cell_type": "code",
   "execution_count": null,
   "metadata": {},
   "outputs": [],
   "source": [
    "def preorder_print(self, start, traversal):\n",
    "    if start:\n",
    "        traversal += (str(start.value) + \"-\")\n",
    "        traversal = self.preorder_print(start.left, traversal)\n",
    "        traversal = self.preorder_print(start.right, traversal)\n",
    "    return traversal"
   ]
  },
  {
   "cell_type": "markdown",
   "metadata": {},
   "source": [
    "### Binary Tree Implementation Take 1 "
   ]
  },
  {
   "cell_type": "code",
   "execution_count": 37,
   "metadata": {},
   "outputs": [
    {
     "name": "stdout",
     "output_type": "stream",
     "text": [
      "True\n",
      "False\n",
      "1-2-4-5-3\n"
     ]
    }
   ],
   "source": [
    "class Node():\n",
    "  def __init__(self, val):\n",
    "    self.value = val \n",
    "    self.left = None \n",
    "    self.right = None \n",
    "    \n",
    "    \n",
    "class BinaryTree(object):\n",
    "    def __init__(self, root):\n",
    "        self.root = Node(root)\n",
    "\n",
    "    def search(self, find_val):\n",
    "        \"\"\"Return True if the value\n",
    "        is in the tree, return\n",
    "        False otherwise.\"\"\"\n",
    "        return self.preorder_search(self.root, find_val)\n",
    "\n",
    "    def print_tree(self):\n",
    "        \"\"\"Print out all tree nodes\n",
    "        as they are visited in\n",
    "        a pre-order traversal.\"\"\"\n",
    "        return self.preorder_print(self.root, \"\")[:-1]\n",
    "\n",
    "    def preorder_search(self, start, find_val):\n",
    "        \"\"\"Helper method - use this to create a \n",
    "        recursive search solution.\"\"\"\n",
    "        if(isinstance(start,type(None))):\n",
    "          return False \n",
    "        elif(start.value == find_val):\n",
    "          return True\n",
    "        else: \n",
    "          return self.preorder_search(start.left, find_val) or self.preorder_search(start.right,find_val)\n",
    "        return False\n",
    "\n",
    "    def preorder_print(self, start, traversal):\n",
    "        \"\"\"Helper method - use this to create a \n",
    "        recursive print solution.\"\"\"\n",
    "        if start:\n",
    "          traversal += (str(start.value) + \"-\")\n",
    "          traversal = self.preorder_print(start.left, traversal)\n",
    "          traversal = self.preorder_print(start.right, traversal)\n",
    "        # else: # base case, \n",
    "        return traversal\n",
    "        \n",
    "\n",
    "\n",
    "# Set up tree\n",
    "tree = BinaryTree(1)\n",
    "tree.root.left = Node(2)\n",
    "tree.root.right = Node(3)\n",
    "tree.root.left.left = Node(4)\n",
    "tree.root.left.right = Node(5)\n",
    "\n",
    "# Should be True\n",
    "print(tree.search(4))\n",
    "# Should be False\n",
    "print(tree.search(6))\n",
    "\n",
    "# Test print_tree\n",
    "# Should be 1-2-4-5-3\n",
    "print(tree.print_tree())"
   ]
  },
  {
   "cell_type": "markdown",
   "metadata": {},
   "source": [
    "### Binary Search Tree\n",
    "\n",
    "For each node, every value on the left of the node is smaller than it and every value on the right is larger than it"
   ]
  },
  {
   "cell_type": "markdown",
   "metadata": {},
   "source": [
    "### BST Implementation Take 1 "
   ]
  },
  {
   "cell_type": "code",
   "execution_count": 38,
   "metadata": {},
   "outputs": [
    {
     "name": "stdout",
     "output_type": "stream",
     "text": [
      "True\n",
      "False\n"
     ]
    }
   ],
   "source": [
    "class Node(object):\n",
    "    def __init__(self, value):\n",
    "        self.value = value\n",
    "        self.left = None\n",
    "        self.right = None\n",
    "\n",
    "class BST(object):\n",
    "  def __init__(self, root):\n",
    "      self.root = Node(root)\n",
    "\n",
    "  def insert(self, new_val):\n",
    "      new_node = Node(new_val)\n",
    "      self.insert_helper(self.root, new_node)\n",
    "\n",
    "  def insert_helper(self, tree_node, new_node):\n",
    "      if(new_node.value < tree_node.value):\n",
    "          if tree_node.left:\n",
    "              self.insert_helper(tree_node.left, new_node)\n",
    "          else:\n",
    "              tree_node.left = new_node\n",
    "      else:\n",
    "          if tree_node.right:\n",
    "              self.insert_helper(tree_node.right, new_node)\n",
    "          else:\n",
    "              tree_node.right = new_node\n",
    "          \n",
    "\n",
    "  def search(self, find_val):\n",
    "    return self.search_helper(self.root, find_val)\n",
    "  \n",
    "  def search_helper(self, tree_node, find_val):\n",
    "    if(tree_node.value == find_val):\n",
    "      return True \n",
    "    if(tree_node.value < find_val):\n",
    "      if(tree_node.right):\n",
    "        return self.search_helper(tree_node.right, find_val)\n",
    "    else: \n",
    "      if(tree_node.left):\n",
    "        return self.search_helper(tree_node.left, find_val)\n",
    "    return False \n",
    "    \n",
    "# Set up tree\n",
    "tree = BST(4)\n",
    "\n",
    "# Insert elements\n",
    "tree.insert(2)\n",
    "tree.insert(1)\n",
    "tree.insert(3)\n",
    "tree.insert(5)\n",
    "\n",
    "# Check search\n",
    "# Should be True\n",
    "print(tree.search(4))\n",
    "# Should be False\n",
    "print(tree.search(6))"
   ]
  },
  {
   "cell_type": "markdown",
   "metadata": {},
   "source": [
    "## Heaps \n",
    "\n",
    "Elements are arranged in increasing or decreasing order such that the root is either the smallest value or the largest value \n",
    "\n",
    "Why are heaps called heaps?\n",
    "\n",
    "Looks like it's because heaps satisfy the __heap property__ : if P is a parent of C, then P is greater than or equal to C (for a max-heap)\n",
    "\n",
    "__heapify__ is the operation in which we order the tree based on the heap property\n",
    "* insert: for max heaps, insert into the next value in the tree, then swap (if the child is larger in value than the parent) until the parent has a larger value than the child\n",
    "* delete: delete the right-most node, place his value up to the root of the tree, then swap accordingly until the heap property is satisfied\n",
    "\n",
    "You can represent a heap in an array! "
   ]
  },
  {
   "cell_type": "markdown",
   "metadata": {},
   "source": [
    "## Graphs \n",
    "\n",
    "Graphs\n",
    "* can be directed or not directed\n",
    "* can contain cycles\n",
    "* edges and nodes can both have values \n",
    "* can be doubly linked \n",
    "\n",
    "__disconnected graph__ : has some vertex/vertices that cannot be reached by other vertices\n",
    "\n",
    "__connected graph__ : all vertices are connected to each other\n",
    "\n",
    "__weakly connected__ : the graph is weakly connected if changing the graph from directed to undirected causes it to be connected\n",
    "\n",
    "### Graph representations\n",
    "\n",
    "__edge list__ : just have a list of edges where each item is a tuple denoting 2 nodes \n",
    "\n",
    "__adjacency list__ : the index of each item in the list represents the node # of the node in the graph. The number of elements in each item corresponds to all the nodes that item is connected to \n",
    "\n",
    "__adjacency matrix__ : like the adjacency list, but instead has a flag denoting whether or not two nodes are connected"
   ]
  },
  {
   "cell_type": "markdown",
   "metadata": {},
   "source": [
    "## Graph Implementation Take 1 "
   ]
  },
  {
   "cell_type": "code",
   "execution_count": 39,
   "metadata": {},
   "outputs": [
    {
     "name": "stdout",
     "output_type": "stream",
     "text": [
      "[(100, 1, 2), (101, 1, 3), (102, 1, 4), (103, 3, 4)]\n",
      "[None, [(2, 100), (3, 101), (4, 102)], None, [(4, 103)], None]\n",
      "[[0, 0, 0, 0, 0], [0, 0, 100, 101, 102], [0, 0, 0, 0, 0], [0, 0, 0, 0, 103], [0, 0, 0, 0, 0]]\n"
     ]
    }
   ],
   "source": [
    "class Node(object):\n",
    "    def __init__(self, value):\n",
    "        self.value = value\n",
    "        self.edges = []\n",
    "\n",
    "class Edge(object):\n",
    "    def __init__(self, value, node_from, node_to):\n",
    "        self.value = value\n",
    "        self.node_from = node_from\n",
    "        self.node_to = node_to\n",
    "\n",
    "class Graph(object):\n",
    "  def __init__(self, nodes=[], edges=[]):\n",
    "    self.nodes = nodes\n",
    "    self.edges = edges\n",
    "\n",
    "  def insert_node(self, new_node_val):\n",
    "    new_node = Node(new_node_val)\n",
    "    self.nodes.append(new_node)\n",
    "      \n",
    "  def insert_edge(self, new_edge_val, node_from_val, node_to_val):\n",
    "    from_found = None\n",
    "    to_found = None\n",
    "    for node in self.nodes:\n",
    "        if node_from_val == node.value:\n",
    "            from_found = node\n",
    "        if node_to_val == node.value:\n",
    "            to_found = node\n",
    "    if from_found == None:\n",
    "        from_found = Node(node_from_val)\n",
    "        self.nodes.append(from_found)\n",
    "    if to_found == None:\n",
    "        to_found = Node(node_to_val)\n",
    "        self.nodes.append(to_found)\n",
    "    new_edge = Edge(new_edge_val, from_found, to_found)\n",
    "    from_found.edges.append(new_edge)\n",
    "    to_found.edges.append(new_edge)\n",
    "    self.edges.append(new_edge)\n",
    "\n",
    "  def get_edge_list(self):\n",
    "    \"\"\"Don't return a list of edge objects!\n",
    "    Return a list of triples that looks like this:\n",
    "    (Edge Value, From Node Value, To Node Value)\"\"\"\n",
    "    edge_list = []\n",
    "    for edge in self.edges:     \n",
    "      edge_list.append((edge.value, edge.node_from.value, edge.node_to.value))  \n",
    "    return edge_list\n",
    "\n",
    "  def get_adjacency_list(self):\n",
    "    \"\"\"Don't return any Node or Edge objects!\n",
    "    You'll return a list of lists.\n",
    "    The indecies of the outer list represent\n",
    "    \"from\" nodes.\n",
    "    Each section in the list will store a list\n",
    "    of tuples that looks like this:\n",
    "    (To Node, Edge Value)\"\"\"\n",
    "\n",
    "    node_values = []\n",
    "    for node in self.nodes:\n",
    "      node_values.append(node.value)\n",
    "      \n",
    "    adj_edge_list = [None]*(max(node_values)+1)\n",
    "    # adj_edge_list = []\n",
    "      \n",
    "    for idx in range(max(node_values)):\n",
    "      adj_edge_list_at_idx = []\n",
    "      for edge in self.edges: \n",
    "        if(edge.node_from.value == idx):\n",
    "          some_tuple = (edge.node_to.value, edge.value)\n",
    "          adj_edge_list_at_idx.append(some_tuple)\n",
    "      \n",
    "      if not adj_edge_list_at_idx:\n",
    "        adj_edge_list_at_idx = None \n",
    "      \n",
    "      adj_edge_list[idx] = adj_edge_list_at_idx\n",
    "      \n",
    "    return adj_edge_list\n",
    "  \n",
    "  def get_adjacency_matrix(self):\n",
    "    \"\"\"Return a matrix, or 2D list.\n",
    "    Row numbers represent from nodes,\n",
    "    column numbers represent to nodes.\n",
    "    Store the edge values in each spot,\n",
    "    and a 0 if no edge exists.\"\"\"\n",
    "    max_index = self.find_max_index()\n",
    "    adjacency_matrix = [[0 for i in range(max_index + 1)] for j in range(max_index + 1)]\n",
    "    for edge_object in self.edges:\n",
    "        adjacency_matrix[edge_object.node_from.value][edge_object.node_to.value] = edge_object.value\n",
    "    return adjacency_matrix\n",
    "\n",
    "  def find_max_index(self):\n",
    "    max_index = -1\n",
    "    if len(self.nodes):\n",
    "        for node in self.nodes:\n",
    "            if node.value > max_index:\n",
    "                max_index = node.value\n",
    "    return max_index\n",
    "\n",
    "graph = Graph()\n",
    "graph.insert_edge(100, 1, 2)\n",
    "graph.insert_edge(101, 1, 3)\n",
    "graph.insert_edge(102, 1, 4)\n",
    "graph.insert_edge(103, 3, 4)\n",
    "# Should be [(100, 1, 2), (101, 1, 3), (102, 1, 4), (103, 3, 4)]\n",
    "print(graph.get_edge_list())\n",
    "# Should be [None, [(2, 100), (3, 101), (4, 102)], None, [(4, 103)], None]\n",
    "print(graph.get_adjacency_list())\n",
    "# Should be [[0, 0, 0, 0, 0], [0, 0, 100, 101, 102], [0, 0, 0, 0, 0], [0, 0, 0, 0, 103], [0, 0, 0, 0, 0]]\n",
    "print(graph.get_adjacency_matrix())"
   ]
  },
  {
   "cell_type": "markdown",
   "metadata": {},
   "source": [
    "### Graph Traversal: DFS or BFS\n",
    "\n",
    "We can traverse through a graph through depth-first search.\n",
    "\n",
    "Depth first search can be implemented through a stack. The algorithm is as follows: \n",
    "* pick a random node, place it in a stack, and pick a random edge to go to another node, and place it in the stack. Traverse through an edge of this node and repeat in this fashion until you either reach a node you have seen already or if you've reached a dead end. Then pop off the nodes off the stack of nodes that satisfy those conditions above and repeat. lol that was confusing. "
   ]
  },
  {
   "cell_type": "markdown",
   "metadata": {},
   "source": [
    "\n",
    "# Python Language Notes \n",
    "\n",
    "* Can we compare an integer to a None?"
   ]
  },
  {
   "cell_type": "code",
   "execution_count": 1,
   "metadata": {},
   "outputs": [
    {
     "name": "stdout",
     "output_type": "stream",
     "text": [
      "Valid Syntax\n"
     ]
    }
   ],
   "source": [
    "x = 1 \n",
    "if x != None:\n",
    "    print('Valid Syntax')"
   ]
  },
  {
   "cell_type": "markdown",
   "metadata": {},
   "source": [
    "* return statement without a value? "
   ]
  },
  {
   "cell_type": "code",
   "execution_count": 3,
   "metadata": {},
   "outputs": [
    {
     "name": "stdout",
     "output_type": "stream",
     "text": [
      "Valid syntax\n"
     ]
    }
   ],
   "source": [
    "def some_func():\n",
    "    print(\"Valid syntax\")\n",
    "    return \n",
    "    print(\"INVALID SINNNNTAX\")\n",
    "    \n",
    "some_func()"
   ]
  },
  {
   "cell_type": "markdown",
   "metadata": {},
   "source": [
    "Python if not???"
   ]
  },
  {
   "cell_type": "code",
   "execution_count": 4,
   "metadata": {},
   "outputs": [
    {
     "name": "stdout",
     "output_type": "stream",
     "text": [
      "Valid syntax\n"
     ]
    }
   ],
   "source": [
    "x = 2 \n",
    "if not False:\n",
    "    print(\"Valid syntax\")"
   ]
  },
  {
   "cell_type": "markdown",
   "metadata": {},
   "source": [
    "Calling functions inside classes??"
   ]
  },
  {
   "cell_type": "code",
   "execution_count": 9,
   "metadata": {},
   "outputs": [
    {
     "name": "stdout",
     "output_type": "stream",
     "text": [
      "1\n"
     ]
    }
   ],
   "source": [
    "class CallMeMaybe:\n",
    "    def __init__(self):\n",
    "        self.worth = False\n",
    "    def get_position(self):\n",
    "        return 1\n",
    "    def get_dat_position(self):\n",
    "        return self.get_position()\n",
    "    \n",
    "cmm = CallMeMaybe()\n",
    "print(cmm.get_dat_position())"
   ]
  },
  {
   "cell_type": "markdown",
   "metadata": {},
   "source": [
    "Nested functions??"
   ]
  },
  {
   "cell_type": "code",
   "execution_count": 11,
   "metadata": {},
   "outputs": [
    {
     "name": "stdout",
     "output_type": "stream",
     "text": [
      "valid stuff\n"
     ]
    }
   ],
   "source": [
    "def some_func():\n",
    "    def something_cool():\n",
    "        print(\"valid stuff\")\n",
    "        \n",
    "    something_cool()\n",
    "    \n",
    "some_func()"
   ]
  },
  {
   "cell_type": "markdown",
   "metadata": {},
   "source": [
    "Python type-casting "
   ]
  },
  {
   "cell_type": "code",
   "execution_count": 12,
   "metadata": {},
   "outputs": [
    {
     "data": {
      "text/plain": [
       "2"
      ]
     },
     "execution_count": 12,
     "metadata": {},
     "output_type": "execute_result"
    }
   ],
   "source": [
    "int(2.4345345)"
   ]
  },
  {
   "cell_type": "markdown",
   "metadata": {},
   "source": [
    "NONETYPE in python! \n",
    "\n",
    "Nonetype is equivalent to a 'None' object\n"
   ]
  },
  {
   "cell_type": "code",
   "execution_count": 27,
   "metadata": {},
   "outputs": [
    {
     "name": "stdout",
     "output_type": "stream",
     "text": [
      "<class '__main__.Node'>\n",
      "<class '__main__.Node'>\n",
      "<class '__main__.Node'>\n",
      "True\n",
      "<class '__main__.Node'>\n",
      "<class '__main__.Node'>\n",
      "<class '__main__.Node'>\n",
      "<class 'NoneType'>\n"
     ]
    },
    {
     "ename": "AttributeError",
     "evalue": "'NoneType' object has no attribute 'value'",
     "output_type": "error",
     "traceback": [
      "\u001b[1;31m---------------------------------------------------------------------------\u001b[0m",
      "\u001b[1;31mAttributeError\u001b[0m                            Traceback (most recent call last)",
      "\u001b[1;32m<ipython-input-27-14304a79a573>\u001b[0m in \u001b[0;36m<module>\u001b[1;34m()\u001b[0m\n\u001b[0;32m     50\u001b[0m \u001b[0mprint\u001b[0m\u001b[1;33m(\u001b[0m\u001b[0mtree\u001b[0m\u001b[1;33m.\u001b[0m\u001b[0msearch\u001b[0m\u001b[1;33m(\u001b[0m\u001b[1;36m4\u001b[0m\u001b[1;33m)\u001b[0m\u001b[1;33m)\u001b[0m\u001b[1;33m\u001b[0m\u001b[0m\n\u001b[0;32m     51\u001b[0m \u001b[1;31m# Should be False\u001b[0m\u001b[1;33m\u001b[0m\u001b[1;33m\u001b[0m\u001b[0m\n\u001b[1;32m---> 52\u001b[1;33m \u001b[0mprint\u001b[0m\u001b[1;33m(\u001b[0m\u001b[0mtree\u001b[0m\u001b[1;33m.\u001b[0m\u001b[0msearch\u001b[0m\u001b[1;33m(\u001b[0m\u001b[1;36m6\u001b[0m\u001b[1;33m)\u001b[0m\u001b[1;33m)\u001b[0m\u001b[1;33m\u001b[0m\u001b[0m\n\u001b[0m\u001b[0;32m     53\u001b[0m \u001b[1;33m\u001b[0m\u001b[0m\n\u001b[0;32m     54\u001b[0m \u001b[1;31m# Test print_tree\u001b[0m\u001b[1;33m\u001b[0m\u001b[1;33m\u001b[0m\u001b[0m\n",
      "\u001b[1;32m<ipython-input-27-14304a79a573>\u001b[0m in \u001b[0;36msearch\u001b[1;34m(self, find_val)\u001b[0m\n\u001b[0;32m     14\u001b[0m         \u001b[1;32mis\u001b[0m \u001b[1;32min\u001b[0m \u001b[0mthe\u001b[0m \u001b[0mtree\u001b[0m\u001b[1;33m,\u001b[0m \u001b[1;32mreturn\u001b[0m\u001b[1;33m\u001b[0m\u001b[0m\n\u001b[0;32m     15\u001b[0m         False otherwise.\"\"\"\n\u001b[1;32m---> 16\u001b[1;33m         \u001b[1;32mreturn\u001b[0m \u001b[0mself\u001b[0m\u001b[1;33m.\u001b[0m\u001b[0mpreorder_search\u001b[0m\u001b[1;33m(\u001b[0m\u001b[0mself\u001b[0m\u001b[1;33m.\u001b[0m\u001b[0mroot\u001b[0m\u001b[1;33m,\u001b[0m \u001b[0mfind_val\u001b[0m\u001b[1;33m)\u001b[0m\u001b[1;33m\u001b[0m\u001b[0m\n\u001b[0m\u001b[0;32m     17\u001b[0m \u001b[1;33m\u001b[0m\u001b[0m\n\u001b[0;32m     18\u001b[0m     \u001b[1;32mdef\u001b[0m \u001b[0mprint_tree\u001b[0m\u001b[1;33m(\u001b[0m\u001b[0mself\u001b[0m\u001b[1;33m)\u001b[0m\u001b[1;33m:\u001b[0m\u001b[1;33m\u001b[0m\u001b[0m\n",
      "\u001b[1;32m<ipython-input-27-14304a79a573>\u001b[0m in \u001b[0;36mpreorder_search\u001b[1;34m(self, start, find_val)\u001b[0m\n\u001b[0;32m     29\u001b[0m             \u001b[1;32mreturn\u001b[0m \u001b[1;32mTrue\u001b[0m\u001b[1;33m\u001b[0m\u001b[0m\n\u001b[0;32m     30\u001b[0m         \u001b[1;32melse\u001b[0m\u001b[1;33m:\u001b[0m\u001b[1;33m\u001b[0m\u001b[0m\n\u001b[1;32m---> 31\u001b[1;33m             \u001b[1;32mreturn\u001b[0m \u001b[0mself\u001b[0m\u001b[1;33m.\u001b[0m\u001b[0mpreorder_search\u001b[0m\u001b[1;33m(\u001b[0m\u001b[0mstart\u001b[0m\u001b[1;33m.\u001b[0m\u001b[0mleft\u001b[0m\u001b[1;33m,\u001b[0m \u001b[0mfind_val\u001b[0m\u001b[1;33m)\u001b[0m \u001b[1;32mor\u001b[0m \u001b[0mself\u001b[0m\u001b[1;33m.\u001b[0m\u001b[0mpreorder_search\u001b[0m\u001b[1;33m(\u001b[0m\u001b[0mstart\u001b[0m\u001b[1;33m.\u001b[0m\u001b[0mright\u001b[0m\u001b[1;33m,\u001b[0m\u001b[0mfind_val\u001b[0m\u001b[1;33m)\u001b[0m\u001b[1;33m\u001b[0m\u001b[0m\n\u001b[0m\u001b[0;32m     32\u001b[0m         \u001b[1;32mreturn\u001b[0m \u001b[1;32mFalse\u001b[0m\u001b[1;33m\u001b[0m\u001b[0m\n\u001b[0;32m     33\u001b[0m \u001b[1;33m\u001b[0m\u001b[0m\n",
      "\u001b[1;32m<ipython-input-27-14304a79a573>\u001b[0m in \u001b[0;36mpreorder_search\u001b[1;34m(self, start, find_val)\u001b[0m\n\u001b[0;32m     29\u001b[0m             \u001b[1;32mreturn\u001b[0m \u001b[1;32mTrue\u001b[0m\u001b[1;33m\u001b[0m\u001b[0m\n\u001b[0;32m     30\u001b[0m         \u001b[1;32melse\u001b[0m\u001b[1;33m:\u001b[0m\u001b[1;33m\u001b[0m\u001b[0m\n\u001b[1;32m---> 31\u001b[1;33m             \u001b[1;32mreturn\u001b[0m \u001b[0mself\u001b[0m\u001b[1;33m.\u001b[0m\u001b[0mpreorder_search\u001b[0m\u001b[1;33m(\u001b[0m\u001b[0mstart\u001b[0m\u001b[1;33m.\u001b[0m\u001b[0mleft\u001b[0m\u001b[1;33m,\u001b[0m \u001b[0mfind_val\u001b[0m\u001b[1;33m)\u001b[0m \u001b[1;32mor\u001b[0m \u001b[0mself\u001b[0m\u001b[1;33m.\u001b[0m\u001b[0mpreorder_search\u001b[0m\u001b[1;33m(\u001b[0m\u001b[0mstart\u001b[0m\u001b[1;33m.\u001b[0m\u001b[0mright\u001b[0m\u001b[1;33m,\u001b[0m\u001b[0mfind_val\u001b[0m\u001b[1;33m)\u001b[0m\u001b[1;33m\u001b[0m\u001b[0m\n\u001b[0m\u001b[0;32m     32\u001b[0m         \u001b[1;32mreturn\u001b[0m \u001b[1;32mFalse\u001b[0m\u001b[1;33m\u001b[0m\u001b[0m\n\u001b[0;32m     33\u001b[0m \u001b[1;33m\u001b[0m\u001b[0m\n",
      "\u001b[1;32m<ipython-input-27-14304a79a573>\u001b[0m in \u001b[0;36mpreorder_search\u001b[1;34m(self, start, find_val)\u001b[0m\n\u001b[0;32m     29\u001b[0m             \u001b[1;32mreturn\u001b[0m \u001b[1;32mTrue\u001b[0m\u001b[1;33m\u001b[0m\u001b[0m\n\u001b[0;32m     30\u001b[0m         \u001b[1;32melse\u001b[0m\u001b[1;33m:\u001b[0m\u001b[1;33m\u001b[0m\u001b[0m\n\u001b[1;32m---> 31\u001b[1;33m             \u001b[1;32mreturn\u001b[0m \u001b[0mself\u001b[0m\u001b[1;33m.\u001b[0m\u001b[0mpreorder_search\u001b[0m\u001b[1;33m(\u001b[0m\u001b[0mstart\u001b[0m\u001b[1;33m.\u001b[0m\u001b[0mleft\u001b[0m\u001b[1;33m,\u001b[0m \u001b[0mfind_val\u001b[0m\u001b[1;33m)\u001b[0m \u001b[1;32mor\u001b[0m \u001b[0mself\u001b[0m\u001b[1;33m.\u001b[0m\u001b[0mpreorder_search\u001b[0m\u001b[1;33m(\u001b[0m\u001b[0mstart\u001b[0m\u001b[1;33m.\u001b[0m\u001b[0mright\u001b[0m\u001b[1;33m,\u001b[0m\u001b[0mfind_val\u001b[0m\u001b[1;33m)\u001b[0m\u001b[1;33m\u001b[0m\u001b[0m\n\u001b[0m\u001b[0;32m     32\u001b[0m         \u001b[1;32mreturn\u001b[0m \u001b[1;32mFalse\u001b[0m\u001b[1;33m\u001b[0m\u001b[0m\n\u001b[0;32m     33\u001b[0m \u001b[1;33m\u001b[0m\u001b[0m\n",
      "\u001b[1;32m<ipython-input-27-14304a79a573>\u001b[0m in \u001b[0;36mpreorder_search\u001b[1;34m(self, start, find_val)\u001b[0m\n\u001b[0;32m     26\u001b[0m         recursive search solution.\"\"\"\n\u001b[0;32m     27\u001b[0m         \u001b[0mprint\u001b[0m\u001b[1;33m(\u001b[0m\u001b[0mtype\u001b[0m\u001b[1;33m(\u001b[0m\u001b[0mstart\u001b[0m\u001b[1;33m)\u001b[0m\u001b[1;33m)\u001b[0m\u001b[1;33m\u001b[0m\u001b[0m\n\u001b[1;32m---> 28\u001b[1;33m         \u001b[1;32mif\u001b[0m\u001b[1;33m(\u001b[0m\u001b[0mstart\u001b[0m\u001b[1;33m.\u001b[0m\u001b[0mvalue\u001b[0m \u001b[1;33m==\u001b[0m \u001b[0mfind_val\u001b[0m\u001b[1;33m)\u001b[0m\u001b[1;33m:\u001b[0m\u001b[1;33m\u001b[0m\u001b[0m\n\u001b[0m\u001b[0;32m     29\u001b[0m             \u001b[1;32mreturn\u001b[0m \u001b[1;32mTrue\u001b[0m\u001b[1;33m\u001b[0m\u001b[0m\n\u001b[0;32m     30\u001b[0m         \u001b[1;32melse\u001b[0m\u001b[1;33m:\u001b[0m\u001b[1;33m\u001b[0m\u001b[0m\n",
      "\u001b[1;31mAttributeError\u001b[0m: 'NoneType' object has no attribute 'value'"
     ]
    }
   ],
   "source": [
    "class Node():\n",
    "  def __init__(self, val):\n",
    "    self.value = val \n",
    "    self.left = None \n",
    "    self.right = None \n",
    "    \n",
    "    \n",
    "class BinaryTree(object):\n",
    "    def __init__(self, root):\n",
    "        self.root = Node(root)\n",
    "\n",
    "    def search(self, find_val):\n",
    "        \"\"\"Return True if the value\n",
    "        is in the tree, return\n",
    "        False otherwise.\"\"\"\n",
    "        return self.preorder_search(self.root, find_val)\n",
    "\n",
    "    def print_tree(self):\n",
    "        \"\"\"Print out all tree nodes\n",
    "        as they are visited in\n",
    "        a pre-order traversal.\"\"\"\n",
    "        return self.preorder_print(start.root, \"\")\n",
    "\n",
    "    def preorder_search(self, start, find_val):\n",
    "        \"\"\"Helper method - use this to create a \n",
    "        recursive search solution.\"\"\"\n",
    "        print(type(start))\n",
    "        if(start.value == find_val):\n",
    "            return True\n",
    "        else: \n",
    "            return self.preorder_search(start.left, find_val) or self.preorder_search(start.right,find_val)\n",
    "        return False\n",
    "\n",
    "    def preorder_print(self, start, traversal):\n",
    "        \"\"\"Helper method - use this to create a \n",
    "        recursive print solution.\"\"\"\n",
    "        self.preorder_search(start.left, traversal)\n",
    "        traversal += start.value \n",
    "        self.preorder_search(start.right, traversal)\n",
    "\n",
    "\n",
    "# Set up tree\n",
    "tree = BinaryTree(1)\n",
    "tree.root.left = Node(2)\n",
    "tree.root.right = Node(3)\n",
    "tree.root.left.left = Node(4)\n",
    "tree.root.left.right = Node(5)\n",
    "\n",
    "# Should be True\n",
    "print(tree.search(4))\n",
    "# Should be False\n",
    "print(tree.search(6))\n",
    "\n",
    "# Test print_tree\n",
    "# Should be 1-2-4-5-3\n",
    "print(tree.print_tree())"
   ]
  },
  {
   "cell_type": "markdown",
   "metadata": {},
   "source": [
    "Python NoneType! yayyy knowledge! :) \n"
   ]
  },
  {
   "cell_type": "code",
   "execution_count": 36,
   "metadata": {},
   "outputs": [
    {
     "name": "stdout",
     "output_type": "stream",
     "text": [
      "This is valid and executes this code block.\n"
     ]
    }
   ],
   "source": [
    "start = None\n",
    "# Apparently if a class is of type Nonetype, checking through double-equals equality doesn't suffice! i.e.:\n",
    "if(start == type(None)):\n",
    "    # do stuff \n",
    "    print(\"This is not valid.\")\n",
    "\"\"\"\n",
    "Alternatively, I checked that an object was of aninstance of type(None) by doing this instead\n",
    "I'm going to chalk that up to Python being more stringent about None types than i thought.\n",
    "Direct comparisons are shaky if you do comparisons against None/NoneTypes (Oh Python, I thought I could trust you!)\n",
    "\n",
    "Here's a solution to my problem, probably digs down deeper into the low-level stuff that does actual existence checks\n",
    "\"\"\"\n",
    "if(isinstance(start,type(None))):\n",
    "    # do stuff \n",
    "    print(\"This is valid and executes this code block.\")"
   ]
  }
 ],
 "metadata": {
  "kernelspec": {
   "display_name": "Python [conda env:Miniconda3]",
   "language": "python",
   "name": "conda-env-Miniconda3-py"
  },
  "language_info": {
   "codemirror_mode": {
    "name": "ipython",
    "version": 3
   },
   "file_extension": ".py",
   "mimetype": "text/x-python",
   "name": "python",
   "nbconvert_exporter": "python",
   "pygments_lexer": "ipython3",
   "version": "3.6.3"
  }
 },
 "nbformat": 4,
 "nbformat_minor": 2
}
