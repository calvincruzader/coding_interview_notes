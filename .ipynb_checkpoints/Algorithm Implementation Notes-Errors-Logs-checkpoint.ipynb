{
 "cells": [
  {
   "cell_type": "markdown",
   "metadata": {},
   "source": [
    "# Linked Lists\n",
    "\n",
    "## Errors during implementation:\n",
    "* Missed a counter += 1 while doing a while loop \n",
    "* ‘Null’ object in python is “None”\n",
    "* Mixed up variables when implementing LL \n",
    "* Incorrect implementation of LL delete(): head is not \n",
    "* Proper way to implement LL delete() without having to do current_node.next.next! "
   ]
  },
  {
   "cell_type": "code",
   "execution_count": null,
   "metadata": {},
   "outputs": [],
   "source": [
    "def delete(self, value):\n",
    "    current = self.head\n",
    "    previous = None #\n",
    "    while current.value != value and current.next:\n",
    "        previous = current\n",
    "        current = current.next\n",
    "    if current.value == value:\n",
    "        if previous:\n",
    "            previous.next = current.next\n",
    "        else:\n",
    "            self.head = current.next\n"
   ]
  },
  {
   "cell_type": "markdown",
   "metadata": {},
   "source": [
    "## Linked List Implementation Take 1\n"
   ]
  },
  {
   "cell_type": "code",
   "execution_count": null,
   "metadata": {},
   "outputs": [],
   "source": [
    "class Element(object):\n",
    "    def __init__(self, value):\n",
    "        self.value = value\n",
    "        self.next = None\n",
    "        \n",
    "class LinkedList(object):\n",
    "    def __init__(self, head=None):\n",
    "        self.head = head\n",
    "        \n",
    "    def append(self, new_element):\n",
    "        current = self.head\n",
    "        if self.head:\n",
    "            while current.next:\n",
    "                current = current.next\n",
    "            current.next = new_element\n",
    "        else:\n",
    "            self.head = new_element\n",
    "            \n",
    "    def get_position(self, position):\n",
    "        \"\"\"Get an element from a particular position.\n",
    "        Assume the first position is \"1\".\n",
    "        Return \"None\" if position is not in the list.\"\"\"\n",
    "        if position == 1:\n",
    "            return self.head \n",
    "        else:\n",
    "            counter = 1 \n",
    "            current = self.head\n",
    "            while counter < position:\n",
    "                current = current.next\n",
    "                if current == None:\n",
    "                    return \"None\"\n",
    "                counter += 1\n",
    "            \n",
    "            return current\n",
    "    \n",
    "    def insert(self, new_element, position):\n",
    "        \"\"\"Insert a new node at the given position.\n",
    "        Assume the first position is \"1\".\n",
    "        Inserting at position 3 means between\n",
    "        the 2nd and 3rd elements.\"\"\"\n",
    "        if position == 1:\n",
    "            new_element.next = self.head\n",
    "            self.head = new_element\n",
    "        else: \n",
    "            prepending_element = self.get_position(position-1)\n",
    "            appending_element = self.get_position(position)\n",
    "            \n",
    "            if prepending_element == None: \n",
    "                # What do we do if prepending element is null? (prep_el position = 20, position = 100)\n",
    "                return \"Unaccounted for test case.\"\n",
    "            elif appending_element == None:\n",
    "                prepending_element.next = new_element \n",
    "            else: \n",
    "                prepending_element.next = new_element \n",
    "                new_element.next = appending_element\n",
    "    \n",
    "    \n",
    "    def delete(self, value):\n",
    "        \"\"\"Delete the first node with a given value.\"\"\"\n",
    "        if self.head == None:\n",
    "            return \"None\"\n",
    "\n",
    "        current_node = self.head \n",
    "        if current_node.value == value:\n",
    "            # delete head and return \n",
    "            self.head = current_node.next\n",
    "            current_node.next = None\n",
    "            return \"None\"\n",
    "        \n",
    "        if current_node.next != None:\n",
    "            # delete almost head if value exists \n",
    "            if current_node.next.value == value: \n",
    "                current_node.next = current_node.next.next\n",
    "                return \"None\"\n",
    "        \n",
    "        value_found = False  \n",
    "        while current_node.next.next != None:\n",
    "            if current_node.next.value == value: \n",
    "                current_node.next = current_node.next.next \n",
    "                return \n",
    "            current_node = current_node.next \n",
    "            "
   ]
  },
  {
   "cell_type": "markdown",
   "metadata": {},
   "source": [
    "# Stacks \n",
    "\n",
    "## Stack Implementation Take 1"
   ]
  },
  {
   "cell_type": "markdown",
   "metadata": {},
   "source": []
  },
  {
   "cell_type": "markdown",
   "metadata": {},
   "source": [
    "# Python Language Notes \n",
    "\n",
    "* Can we compare an integer to a None?"
   ]
  },
  {
   "cell_type": "code",
   "execution_count": 1,
   "metadata": {},
   "outputs": [
    {
     "name": "stdout",
     "output_type": "stream",
     "text": [
      "Valid Syntax\n"
     ]
    }
   ],
   "source": [
    "x = 1 \n",
    "if x != None:\n",
    "    print('Valid Syntax')"
   ]
  },
  {
   "cell_type": "markdown",
   "metadata": {},
   "source": [
    "* return statement without a value? "
   ]
  },
  {
   "cell_type": "code",
   "execution_count": 3,
   "metadata": {},
   "outputs": [
    {
     "name": "stdout",
     "output_type": "stream",
     "text": [
      "Valid syntax\n"
     ]
    }
   ],
   "source": [
    "def some_func():\n",
    "    print(\"Valid syntax\")\n",
    "    return \n",
    "    print(\"INVALID SINNNNTAX\")\n",
    "    \n",
    "some_func()"
   ]
  },
  {
   "cell_type": "markdown",
   "metadata": {},
   "source": [
    "Python if not???"
   ]
  },
  {
   "cell_type": "code",
   "execution_count": 4,
   "metadata": {},
   "outputs": [
    {
     "name": "stdout",
     "output_type": "stream",
     "text": [
      "Valid syntax\n"
     ]
    }
   ],
   "source": [
    "x = 2 \n",
    "if not False:\n",
    "    print(\"Valid syntax\")"
   ]
  },
  {
   "cell_type": "markdown",
   "metadata": {},
   "source": [
    "Calling functions inside classes??"
   ]
  },
  {
   "cell_type": "code",
   "execution_count": 9,
   "metadata": {},
   "outputs": [
    {
     "name": "stdout",
     "output_type": "stream",
     "text": [
      "1\n"
     ]
    }
   ],
   "source": [
    "class CallMeMaybe:\n",
    "    def __init__(self):\n",
    "        self.worth = False\n",
    "    def get_position(self):\n",
    "        return 1\n",
    "    def get_dat_position(self):\n",
    "        return self.get_position()\n",
    "    \n",
    "cmm = CallMeMaybe()\n",
    "print(cmm.get_dat_position())"
   ]
  }
 ],
 "metadata": {
  "kernelspec": {
   "display_name": "Python [conda env:Miniconda3]",
   "language": "python",
   "name": "conda-env-Miniconda3-py"
  },
  "language_info": {
   "codemirror_mode": {
    "name": "ipython",
    "version": 3
   },
   "file_extension": ".py",
   "mimetype": "text/x-python",
   "name": "python",
   "nbconvert_exporter": "python",
   "pygments_lexer": "ipython3",
   "version": "3.6.3"
  }
 },
 "nbformat": 4,
 "nbformat_minor": 2
}
